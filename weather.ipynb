{
  "nbformat": 4,
  "nbformat_minor": 0,
  "metadata": {
    "colab": {
      "name": "weather.ipynb",
      "provenance": [],
      "collapsed_sections": []
    },
    "kernelspec": {
      "name": "python3",
      "display_name": "Python 3"
    },
    "language_info": {
      "name": "python"
    }
  },
  "cells": [
    {
      "cell_type": "code",
      "metadata": {
        "colab": {
          "base_uri": "https://localhost:8080/"
        },
        "id": "E3_9B-X8pBRi",
        "outputId": "1e67426e-b567-4dfc-f3ce-6e2b34cb998b"
      },
      "source": [
        "import requests\n",
        "import pandas as pd\n",
        "from datetime import datetime\n",
        "\n",
        "api_key = 'b5e964974f41a52e1b6a67142404ac2a'\n",
        "location = input(\"Enter the city name: \")\n",
        "\n",
        "complete_api_link = \"https://api.openweathermap.org/data/2.5/weather?q=\"+location+\"&appid=\"+api_key\n",
        "weather = requests.get(complete_api_link)\n",
        "api_data = weather.json()\n",
        "\n",
        "temp_city = ((api_data['main']['temp']) - 273.15)\n",
        "weather_descrip = api_data['weather'][0]['description']\n",
        "humidtyy = api_data['main']['humidity']\n",
        "wind_speed = api_data['wind']['speed']\n",
        "date_time = datetime.now().strftime(\"%d %b %Y | %I:%M:%S %p\")\n",
        "\n",
        "print (\"*************************************************************\")\n",
        "print (\"Weather Stats for - {}  || {}\".format(location.upper(), date_time))\n",
        "print (\"*************************************************************\")\n",
        "\n",
        "print (\"Current temperature is: {:.2f} deg C\".format(temp_city))\n",
        "print (\"Current weather desc  :\",weather_descrip)\n",
        "print (\"Current Humidity      :\",humidtyy, '%')\n",
        "print (\"Current wind speed    :\",wind_speed ,'kmph')\n",
        "print (\"\\n*************************************************************\")\n",
        "\n",
        "with open('weather.txt','w') as fd:\n",
        "    fd.write(str(api_data))"
      ],
      "execution_count": 40,
      "outputs": [
        {
          "output_type": "stream",
          "text": [
            "Enter the city name: delhi\n",
            "*************************************************************\n",
            "Weather Stats for - DELHI  || 23 Jun 2021 | 12:46:12 PM\n",
            "*************************************************************\n",
            "Current temperature is: 41.10 deg C\n",
            "Current weather desc  : clear sky\n",
            "Current Humidity      : 15 %\n",
            "Current wind speed    : 2.95 kmph\n",
            "\n",
            "*************************************************************\n"
          ],
          "name": "stdout"
        }
      ]
    }
  ]
}